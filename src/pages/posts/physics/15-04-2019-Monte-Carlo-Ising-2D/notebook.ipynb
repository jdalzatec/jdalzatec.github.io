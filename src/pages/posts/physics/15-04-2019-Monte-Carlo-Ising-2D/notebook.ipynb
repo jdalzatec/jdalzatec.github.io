{
 "cells": [
  {
   "cell_type": "markdown",
   "metadata": {},
   "source": [
    "# Simulation of a Ising 2D system using the Monte Carlo method and the Metropolis algorithm\n",
    "\n",
    "<br />\n",
    "<div style=\"background-color: gold\">You could download a jupyter notebook with this tutorial from <a href=\"./notebook.ipynb\">here</a>.</div>\n",
    "\n",
    "This tutorial was made in order to give a practical guide for the elaboration of a Monte Carlo program for the simulation of a Ising 2D system. This program is built in **python3**. The complexity of this code is minimal. However, this kind of simulations **is not** efficient in python. For this reason, I recommend you to use other programming language like **c++** or **fortran** because they are high performance programming laguages.\n",
    "\n",
    "We are going to simulate an [Ising 2D system](https://en.wikipedia.org/wiki/Square-lattice_Ising_model), which was solved by Lard Onsager in 1944 in an analytical way. The analytical solution gives the following expression for the critical temperature $\\left(T_c\\right)$:\n",
    "\n",
    "$$\n",
    "\\frac{k_{B}T_{c}}{J} = \\frac{2}{\\ln\\left(1 + \\sqrt{2}\\right)} \\approx 2.26918531421\n",
    "$$\n",
    "where $k_B$ is the Boltzmann constant and $J$ is the exchange constant.\n",
    "\n",
    "What we want to do is to simulate this system and compare this valure with one obtaines by using Monte Carlo method.\n",
    "\n",
    "The Hamiltonian is given by\n",
    "\n",
    "$$\n",
    "\\mathcal{H} = -J \\sum_{\\left<i, j\\right>} \\sigma_i \\sigma_j\n",
    "$$\n",
    "where $J$ is the exchange constant, $\\sigma_i$ and $\\sigma_j$ are the spins in the sites $i$ and $j$, respectively, and $\\left<i, j\\right>$ means the summation over the nearest neighbors.\n",
    "\n",
    "We want to compute several quantities like the magnetization, energy, magnetic susceptibility and specific heat. For this, we are going to use this equations:\n",
    "\n",
    "- Magnetization:\n",
    "$$\n",
    "M = \\frac{1}{N}\\sum_{i}\\sigma_{i}\n",
    "$$\n",
    "- Energy:\n",
    "$$\n",
    "E = \\mathcal{H}\n",
    "$$\n",
    "- Magnetic susceptibility:\n",
    "$$\n",
    "\\chi = \\frac{\\left<M^2\\right> - \\left<M\\right>^2}{k_B T} = \\frac{\\text{variance}\\left(M\\right)}{k_B T}\n",
    "$$\n",
    "- Specific heat:\n",
    "$$\n",
    "C_v = \\frac{\\left<E^2\\right> - \\left<E\\right>^2}{k_B T^2} = \\frac{\\text{var}\\left(E\\right)}{k_B T^2}\n",
    "$$\n",
    "\n",
    "Finally, we are going to plot $\\chi$ and $C_v$ as functions of the temperature and they should exhibit a maximum value near of $T_c$."
   ]
  },
  {
   "cell_type": "markdown",
   "metadata": {},
   "source": [
    "### Importing libraries\n",
    "\n",
    "We are going to need some libraries for different purposes. Basically, the only external libraries that we will use are **numpy**, for the numerical computations, and **matplotlib**, for the plots. The another one is **itertools**, which comes with the core of **python**.\n",
    "\n",
    "You could install both **numpy** and **maplotlib** using the following command in the console:\n",
    "\n",
    "```bash\n",
    "pip install numpy matplotlib\n",
    "```\n",
    "\n",
    "However, if you are using python by means of [Anaconda](https://www.anaconda.com/distribution/), those libraries come installed and you do not need to install them.\n",
    "\n",
    "Let's start coding."
   ]
  },
  {
   "cell_type": "code",
   "execution_count": 1,
   "metadata": {},
   "outputs": [],
   "source": [
    "import numpy\n",
    "from matplotlib import pyplot\n",
    "from itertools import product"
   ]
  },
  {
   "cell_type": "markdown",
   "metadata": {},
   "source": [
    "We need the method **product** from **itertools** in order to get the cartesian product of two arrays.\n",
    "\n",
    "First of all, we need to define some quantities like the **length** of the system, the exchange constant **J** and the value of the Boltzmann constant **kB**. The last two are defined to 1.0 for simplicity and, in this way, we are working with reduced units."
   ]
  },
  {
   "cell_type": "code",
   "execution_count": 2,
   "metadata": {},
   "outputs": [],
   "source": [
    "length = 10\n",
    "J = 1.0\n",
    "kB = 1.0"
   ]
  },
  {
   "cell_type": "markdown",
   "metadata": {},
   "source": [
    "A useful variable to define is the amount of sites **N** of the system. In this case, we have a squared system and, therefore, we have that:"
   ]
  },
  {
   "cell_type": "code",
   "execution_count": 3,
   "metadata": {},
   "outputs": [],
   "source": [
    "N = length * length"
   ]
  },
  {
   "cell_type": "markdown",
   "metadata": {},
   "source": [
    "Ok. Now, we are going to make the lattice. For this, we compute the cartesian product between two arrays from 0 to **length**:"
   ]
  },
  {
   "cell_type": "code",
   "execution_count": 4,
   "metadata": {},
   "outputs": [],
   "source": [
    "sites = list(product(range(length), repeat=2))"
   ]
  },
  {
   "cell_type": "markdown",
   "metadata": {},
   "source": [
    "In this way, **sites** is a list composed by **N** tuples, which correspond to the pairs $\\left(i, j\\right)$:"
   ]
  },
  {
   "cell_type": "code",
   "execution_count": 5,
   "metadata": {},
   "outputs": [
    {
     "name": "stdout",
     "output_type": "stream",
     "text": [
      "[(0, 0), (0, 1), (0, 2), (0, 3), (0, 4), (0, 5), (0, 6), (0, 7), (0, 8), (0, 9), (1, 0), (1, 1), (1, 2), (1, 3), (1, 4), (1, 5), (1, 6), (1, 7), (1, 8), (1, 9), (2, 0), (2, 1), (2, 2), (2, 3), (2, 4), (2, 5), (2, 6), (2, 7), (2, 8), (2, 9), (3, 0), (3, 1), (3, 2), (3, 3), (3, 4), (3, 5), (3, 6), (3, 7), (3, 8), (3, 9), (4, 0), (4, 1), (4, 2), (4, 3), (4, 4), (4, 5), (4, 6), (4, 7), (4, 8), (4, 9), (5, 0), (5, 1), (5, 2), (5, 3), (5, 4), (5, 5), (5, 6), (5, 7), (5, 8), (5, 9), (6, 0), (6, 1), (6, 2), (6, 3), (6, 4), (6, 5), (6, 6), (6, 7), (6, 8), (6, 9), (7, 0), (7, 1), (7, 2), (7, 3), (7, 4), (7, 5), (7, 6), (7, 7), (7, 8), (7, 9), (8, 0), (8, 1), (8, 2), (8, 3), (8, 4), (8, 5), (8, 6), (8, 7), (8, 8), (8, 9), (9, 0), (9, 1), (9, 2), (9, 3), (9, 4), (9, 5), (9, 6), (9, 7), (9, 8), (9, 9)]\n"
     ]
    }
   ],
   "source": [
    "print(sites)"
   ]
  },
  {
   "cell_type": "markdown",
   "metadata": {},
   "source": [
    "We could plot the lattice for visualizing the system:"
   ]
  },
  {
   "cell_type": "code",
   "execution_count": 6,
   "metadata": {},
   "outputs": [
    {
     "data": {
      "image/png": "[encoded data removed]",
      "text/plain": [
       "<Figure size 432x288 with 1 Axes>"
      ]
     },
     "metadata": {},
     "output_type": "display_data"
    }
   ],
   "source": [
    "x, y = numpy.array(sites).T\n",
    "fig = pyplot.figure()\n",
    "ax = fig.add_subplot(111)\n",
    "ax.scatter(x, y)\n",
    "ax.set_aspect(\"equal\")\n",
    "pyplot.show()"
   ]
  },
  {
   "cell_type": "markdown",
   "metadata": {},
   "source": [
    "As you can see, we have a lattice of $10\\times10$ sites, due to **lenght** is equal to 10.\n",
    "\n",
    "Now we need a function to get a random configuration. A random configuration consists in to assign randomly a spin value for each site in the lattice. In is worthy to say that in our system we just have two possible states for the spins: -1 or 1, corresponding to $\\downarrow$ or $\\uparrow$ states, respectively."
   ]
  },
  {
   "cell_type": "code",
   "execution_count": 7,
   "metadata": {},
   "outputs": [],
   "source": [
    "def random_config():\n",
    "    return {site: numpy.random.choice([-1, 1]) for site in sites}"
   ]
  },
  {
   "cell_type": "markdown",
   "metadata": {},
   "source": [
    "We could call the last function to get a random configuration and assign it to the variable **spins**"
   ]
  },
  {
   "cell_type": "code",
   "execution_count": 8,
   "metadata": {},
   "outputs": [],
   "source": [
    "spins = random_config()"
   ]
  },
  {
   "cell_type": "markdown",
   "metadata": {},
   "source": [
    "**spins** is a dictionary containing the values of the spins for each site. Therefore, **spins** just has -1 or 1 vaules:"
   ]
  },
  {
   "cell_type": "code",
   "execution_count": 9,
   "metadata": {},
   "outputs": [
    {
     "name": "stdout",
     "output_type": "stream",
     "text": [
      "dict_values([-1, 1, 1, 1, -1, -1, 1, 1, -1, 1, -1, 1, 1, 1, -1, -1, 1, 1, 1, -1, 1, 1, 1, 1, 1, 1, -1, 1, -1, 1, 1, -1, -1, 1, -1, 1, -1, -1, 1, 1, 1, 1, -1, 1, -1, 1, -1, 1, -1, -1, 1, -1, 1, -1, -1, -1, -1, -1, -1, -1, -1, 1, 1, -1, 1, -1, -1, 1, -1, -1, 1, 1, -1, 1, -1, 1, 1, 1, -1, 1, 1, 1, -1, 1, -1, 1, 1, -1, 1, -1, -1, -1, 1, 1, 1, -1, -1, -1, 1, -1])\n"
     ]
    }
   ],
   "source": [
    "print(spins.values())"
   ]
  },
  {
   "cell_type": "markdown",
   "metadata": {},
   "source": [
    "Now, we could plot the state of our system for the **spins** configuration. For this, let's to write a function to plot the state using arrows:"
   ]
  },
  {
   "cell_type": "code",
   "execution_count": 10,
   "metadata": {},
   "outputs": [],
   "source": [
    "def plot_state():\n",
    "    x, y = numpy.array(sites).T\n",
    "    spins_plain = numpy.array([spins[site] for site in sites])\n",
    "    \n",
    "    colors = numpy.array([\"k\"] * N, dtype=str)\n",
    "    colors[spins_plain == 1] = \"r\"\n",
    "    \n",
    "    fig = pyplot.figure()\n",
    "    ax = fig.add_subplot(111)\n",
    "    ax.quiver(x, y, 0, spins_plain, color=colors,\n",
    "              pivot=\"middle\", width=0.01)\n",
    "    ax.set_aspect(\"equal\")\n",
    "    pyplot.show()"
   ]
  },
  {
   "cell_type": "markdown",
   "metadata": {},
   "source": [
    "Let's call the last function to plot the system state:"
   ]
  },
  {
   "cell_type": "code",
   "execution_count": 11,
   "metadata": {},
   "outputs": [
    {
     "data": {
      "image/png": "[encoded data removed]",
      "text/plain": [
       "<Figure size 432x288 with 1 Axes>"
      ]
     },
     "metadata": {},
     "output_type": "display_data"
    }
   ],
   "source": [
    "plot_state()"
   ]
  },
  {
   "cell_type": "markdown",
   "metadata": {},
   "source": [
    "As you can observe, the random configuration is approximately composed by the same number of up and down states.\n",
    "\n",
    "Ok. Until now, we have a list of **sites**, composed by **N** tuples $\\left(i, j\\right)$, and a dictionary **spins**, composed by **N** keys corresponding to the pairs $\\left(i, j\\right), whose values are -1 or 1."
   ]
  },
  {
   "cell_type": "markdown",
   "metadata": {},
   "source": [
    "Perfect! Let's plot our lattice with the corresponding pair for each site:"
   ]
  },
  {
   "cell_type": "code",
   "execution_count": 12,
   "metadata": {},
   "outputs": [
    {
     "data": {
      "image/png": "[encoded data removed]",
      "text/plain": [
       "<Figure size 432x432 with 1 Axes>"
      ]
     },
     "metadata": {},
     "output_type": "display_data"
    }
   ],
   "source": [
    "x, y = numpy.array(sites).T\n",
    "fig = pyplot.figure(figsize=(6, 6))\n",
    "ax = fig.add_subplot(111)\n",
    "ax.scatter(x, y, alpha=0.2)\n",
    "for site in sites:\n",
    "    i, j = site\n",
    "    pyplot.text(i, j, site,\n",
    "                va=\"center\", ha=\"center\")\n",
    "ax.set_aspect(\"equal\")\n",
    "pyplot.show()"
   ]
  },
  {
   "cell_type": "markdown",
   "metadata": {},
   "source": [
    "Now we should compute the nearest neighbors for each site. In our system, we have periodic boundary conditions, which  means that, for example, the site $\\left(0, 0\\right)$ should have for neighbors the sites $\\left(1, 0\\right)$, $\\left(9, 0\\right)$, $\\left(0, 1\\right)$ and $\\left(0, 9\\right)$. Therefore, let's make a dictionary **nhbs** which has for *key* the pair $\\left(i, j\\right)$ of the site and for value a tuple of pairs for its neighbors. It is to say, **nhbs[(0, 0)]** should be ((1, 0), (9, 0), (0, 1), (0, 9))."
   ]
  },
  {
   "cell_type": "code",
   "execution_count": 13,
   "metadata": {},
   "outputs": [],
   "source": [
    "nhbs = {}\n",
    "for i, j in sites:\n",
    "    right = ((i + 1) % length, j)\n",
    "    left = ((i - 1) % length, j)\n",
    "    up = (i, (j + 1) % length)\n",
    "    down = (i, (j - 1) % length)\n",
    "    \n",
    "    nhbs[(i, j)] = (right, left, up, down)"
   ]
  },
  {
   "cell_type": "markdown",
   "metadata": {},
   "source": [
    "Thus, **nhbs[(0, 0)]** should be that we said:"
   ]
  },
  {
   "cell_type": "code",
   "execution_count": 14,
   "metadata": {},
   "outputs": [
    {
     "name": "stdout",
     "output_type": "stream",
     "text": [
      "((1, 0), (9, 0), (0, 1), (0, 9))\n"
     ]
    }
   ],
   "source": [
    "print(nhbs[(0, 0)])"
   ]
  },
  {
   "cell_type": "markdown",
   "metadata": {},
   "source": [
    "and each site should have four neighbors."
   ]
  },
  {
   "cell_type": "markdown",
   "metadata": {},
   "source": [
    "Until now, we have built all the geometrical specifications of the system. Now, we need to compute some quantities:"
   ]
  },
  {
   "cell_type": "code",
   "execution_count": 15,
   "metadata": {},
   "outputs": [],
   "source": [
    "def magnetization():\n",
    "    return sum(spins.values())\n",
    "\n",
    "def local_energy(site):\n",
    "    energy = 0.0\n",
    "    for nhb in nhbs[site]:\n",
    "        energy += spins[site] * spins[nhb]\n",
    "    return - J * energy\n",
    "\n",
    "def total_energy():\n",
    "    energy = 0.0\n",
    "    for site in sites:\n",
    "        energy += local_energy(site)\n",
    "    return 0.5 * energy"
   ]
  },
  {
   "cell_type": "markdown",
   "metadata": {},
   "source": [
    "We are going to employ the **local_energy** function in the [Metropolis algorithm](http://hua-zhou.github.io/teaching/st758-2014fall/top10/metropolis.pdf) to compute the difference between the new and old energy. We are going to implement the Metropolis algorithm inversing the site's spin firstly and watching when the acceptance of this is not favored. In that case, it is rejected the spin inversion and we need to change the spin newly."
   ]
  },
  {
   "cell_type": "code",
   "execution_count": 16,
   "metadata": {},
   "outputs": [],
   "source": [
    "def metropolis(site, T):\n",
    "    oldEnergy = local_energy(site)\n",
    "    spins[site] *= -1\n",
    "    newEnergy = local_energy(site)\n",
    "    deltaE = newEnergy - oldEnergy\n",
    "    if deltaE > 0 and \\\n",
    "       numpy.random.uniform(0, 1) > numpy.exp(- deltaE / (kB * T)):\n",
    "        spins[site] *= -1"
   ]
  },
  {
   "cell_type": "markdown",
   "metadata": {},
   "source": [
    "For the implementation of the **monte_carlo_step**, you should remember the definition of Monte Carlo step (MCS). In this case, an MCS consists in to apply the Metropolis algorithm over **N** sites chosen in a random fashion."
   ]
  },
  {
   "cell_type": "code",
   "execution_count": 17,
   "metadata": {},
   "outputs": [],
   "source": [
    "def monte_carlo_step(T):\n",
    "    for _ in range(N):\n",
    "        index = numpy.random.randint(0, N)\n",
    "        metropolis(sites[index], T)"
   ]
  },
  {
   "cell_type": "code",
   "execution_count": 18,
   "metadata": {},
   "outputs": [
    {
     "name": "stdout",
     "output_type": "stream",
     "text": [
      "CPU times: user 3.44 ms, sys: 0 ns, total: 3.44 ms\n",
      "Wall time: 3.39 ms\n"
     ]
    }
   ],
   "source": [
    "%%time\n",
    "monte_carlo_step(0.01)"
   ]
  },
  {
   "cell_type": "markdown",
   "metadata": {},
   "source": [
    "The next step is to make a function to perform a temperature step. This function requires both the amount of MCS and the temperature and it will return two arrays which correspond to the magnetization and energy of the system as functions of the Monte Carlo steps. It is to said, return the evolution in the magnetization and energy."
   ]
  },
  {
   "cell_type": "code",
   "execution_count": 19,
   "metadata": {},
   "outputs": [],
   "source": [
    "def temperature_step(amount_mcs, T):\n",
    "    mags = numpy.zeros(amount_mcs)\n",
    "    enes = numpy.zeros(amount_mcs)\n",
    "    for i in range(amount_mcs):\n",
    "        monte_carlo_step(T)\n",
    "        mags[i] = magnetization()\n",
    "        enes[i] = total_energy()\n",
    "    return mags, enes"
   ]
  },
  {
   "cell_type": "markdown",
   "metadata": {},
   "source": [
    "Let's make a minimal simulation until here. We are going to simulate our system at low temperature, starting from a random configuration, and we are going to plot the evolution of the magnetization and energy. For this, we need to define some quantities like the **amount_mcs** and **T**:"
   ]
  },
  {
   "cell_type": "code",
   "execution_count": 64,
   "metadata": {},
   "outputs": [],
   "source": [
    "amount_mcs = 100\n",
    "T = 0.001"
   ]
  },
  {
   "cell_type": "markdown",
   "metadata": {},
   "source": [
    "Then, we could make this small simulation:"
   ]
  },
  {
   "cell_type": "code",
   "execution_count": 65,
   "metadata": {},
   "outputs": [
    {
     "name": "stdout",
     "output_type": "stream",
     "text": [
      "CPU times: user 390 ms, sys: 24.1 ms, total: 415 ms\n",
      "Wall time: 376 ms\n"
     ]
    }
   ],
   "source": [
    "%%time\n",
    "spins = random_config()\n",
    "mags, enes = temperature_step(amount_mcs, T)"
   ]
  },
  {
   "cell_type": "code",
   "execution_count": 66,
   "metadata": {},
   "outputs": [
    {
     "data": {
      "image/png": "[encoded data removed]",
      "text/plain": [
       "<Figure size 576x288 with 2 Axes>"
      ]
     },
     "metadata": {},
     "output_type": "display_data"
    }
   ],
   "source": [
    "fig = pyplot.figure(figsize=(8, 4))\n",
    "ax = fig.add_subplot(121)\n",
    "ax2 = fig.add_subplot(122)\n",
    "\n",
    "ax.plot(mags)\n",
    "ax.grid()\n",
    "ax.set_xlabel(r\"$MCS$\", fontsize=20)\n",
    "ax.set_ylabel(r\"$M$\", fontsize=20)\n",
    "\n",
    "ax2.plot(enes)\n",
    "ax2.grid()\n",
    "ax2.set_xlabel(r\"$MCS$\", fontsize=20)\n",
    "ax2.set_ylabel(r\"$E$\", fontsize=20)\n",
    "\n",
    "pyplot.tight_layout()\n",
    "pyplot.show()"
   ]
  },
  {
   "cell_type": "markdown",
   "metadata": {},
   "source": [
    "As you can observe, both the magnetization and the energy tend to a fixed value as the MCS goes. Also, we could plot the final state for this simulation:"
   ]
  },
  {
   "cell_type": "code",
   "execution_count": 67,
   "metadata": {},
   "outputs": [
    {
     "data": {
      "image/png": "[encoded data removed]",
      "text/plain": [
       "<Figure size 432x288 with 1 Axes>"
      ]
     },
     "metadata": {},
     "output_type": "display_data"
    }
   ],
   "source": [
    "plot_state()"
   ]
  },
  {
   "cell_type": "markdown",
   "metadata": {},
   "source": [
    "In this case, we have obtained a perfect ferromagnetic state. However, in this simulation could have exhibited domain walls due to the low temperature and the lack of temperature cooling. Run this simulation several times and observe the different possible behaviors."
   ]
  },
  {
   "cell_type": "markdown",
   "metadata": {},
   "source": [
    "In order to continue with our program, we should implement some code for running simulations varying the temperature, from high to low temperature. For this, we need to define some variables like **T_high**, **T_low** and **points**, which corresponds to the amount of points between **T_high** and **T_low**, including both."
   ]
  },
  {
   "cell_type": "code",
   "execution_count": 24,
   "metadata": {},
   "outputs": [],
   "source": [
    "T_high = 5.0\n",
    "T_low = 0.001\n",
    "points = 101"
   ]
  },
  {
   "cell_type": "markdown",
   "metadata": {},
   "source": [
    "With this, we could compute a linspace between **T_high** and **T_low** and store it into **tempt**:"
   ]
  },
  {
   "cell_type": "code",
   "execution_count": 25,
   "metadata": {},
   "outputs": [],
   "source": [
    "temps = numpy.linspace(T_high, T_low, points)"
   ]
  },
  {
   "cell_type": "markdown",
   "metadata": {},
   "source": [
    "Moreover, this kind of simulations requires a high amount of MCS in order to get a good statistical results. Thus, let's define again **amount_mcs** with a higher value:"
   ]
  },
  {
   "cell_type": "code",
   "execution_count": 68,
   "metadata": {},
   "outputs": [],
   "source": [
    "amount_mcs = 5000"
   ]
  },
  {
   "cell_type": "markdown",
   "metadata": {},
   "source": [
    "We have everything almost made. Let's to define two numpy arrays, for the energies and magnetizations, to store the system evolution both the temperature and the time. It is to say, we are going to have two matrices with shape ```(points, amount_mcs)``` which will have all the required data to compute statistical averages."
   ]
  },
  {
   "cell_type": "code",
   "execution_count": 27,
   "metadata": {},
   "outputs": [],
   "source": [
    "data_energies = numpy.zeros(shape=(points, amount_mcs))\n",
    "data_magnetizations = numpy.zeros(shape=(points, amount_mcs))"
   ]
  },
  {
   "cell_type": "markdown",
   "metadata": {},
   "source": [
    "Finally, we need to make a **for** statement over **temps**. For each iteration, we saved the magnetization and energy into **data_magnetizations** and **data_energies**, respectively. This part is the one that requires more time. In a computer with Intel® Core™ i7-3612QM CPU @ 2.10GHz lasted about 27min 13s."
   ]
  },
  {
   "cell_type": "code",
   "execution_count": 28,
   "metadata": {},
   "outputs": [
    {
     "name": "stdout",
     "output_type": "stream",
     "text": [
      "CPU times: user 27min 13s, sys: 3.24 s, total: 27min 17s\n",
      "Wall time: 27min 13s\n"
     ]
    }
   ],
   "source": [
    "%%time\n",
    "spins = random_config()\n",
    "for ind_T, T in enumerate(temps):\n",
    "    mags, enes = temperature_step(amount_mcs, T)\n",
    "    data_energies[ind_T] = enes\n",
    "    data_magnetizations[ind_T] = mags"
   ]
  },
  {
   "cell_type": "markdown",
   "metadata": {},
   "source": [
    "As expected, the final state corresponds to a ferromagnetic state, where all spins are pointing in the same direction."
   ]
  },
  {
   "cell_type": "code",
   "execution_count": 69,
   "metadata": {},
   "outputs": [
    {
     "data": {
      "image/png": "[encoded data removed]",
      "text/plain": [
       "<Figure size 432x288 with 1 Axes>"
      ]
     },
     "metadata": {},
     "output_type": "display_data"
    }
   ],
   "source": [
    "plot_state()"
   ]
  },
  {
   "cell_type": "markdown",
   "metadata": {},
   "source": [
    "The next step consists in to plot the energy and magnetization. For this, we are going to discard the half of MCS for the relaxation. This quantity is named **tau**. Thus, we compute the mean of **data_energies** and **data_magnetizations**, after **tau**, for each temperature. As the evolution with respect to the MCS was saved in the axis=1, we need to compute the mean over the axis=1:"
   ]
  },
  {
   "cell_type": "code",
   "execution_count": 78,
   "metadata": {},
   "outputs": [],
   "source": [
    "tau = amount_mcs // 2\n",
    "energy_mean = numpy.mean(data_energies[:, tau:], axis=1)\n",
    "magnetization_mean = numpy.abs(numpy.mean(data_magnetizations[:, tau:], axis=1))"
   ]
  },
  {
   "cell_type": "markdown",
   "metadata": {},
   "source": [
    "The shape of **temps**, **energy_mean** and **magnetization_mean** should be the same:"
   ]
  },
  {
   "cell_type": "code",
   "execution_count": 80,
   "metadata": {},
   "outputs": [
    {
     "name": "stdout",
     "output_type": "stream",
     "text": [
      "(101,)\n",
      "(101,)\n",
      "(101,)\n"
     ]
    }
   ],
   "source": [
    "print(temps.shape)\n",
    "print(energy_mean.shape)\n",
    "print(magnetization_mean.shape)"
   ]
  },
  {
   "cell_type": "markdown",
   "metadata": {},
   "source": [
    "Let's plot **energy_mean** and **magnetization_mean** as functions of **temps**:"
   ]
  },
  {
   "cell_type": "code",
   "execution_count": 81,
   "metadata": {},
   "outputs": [
    {
     "data": {
      "image/png": "[encoded data removed]",
      "text/plain": [
       "<Figure size 576x288 with 2 Axes>"
      ]
     },
     "metadata": {},
     "output_type": "display_data"
    }
   ],
   "source": [
    "fig = pyplot.figure(figsize=(8, 4))\n",
    "ax = fig.add_subplot(121)\n",
    "ax2 = fig.add_subplot(122)\n",
    "\n",
    "ax.plot(temps, energy_mean)\n",
    "ax.set_xlabel(r\"$\\frac{k_B T}{J}$\", fontsize=20)\n",
    "ax.set_ylabel(r\"$E$\", fontsize=20)\n",
    "ax.grid()\n",
    "\n",
    "ax2.plot(temps, magnetization_mean)\n",
    "ax2.set_xlabel(r\"$\\frac{k_B T}{J}$\", fontsize=20)\n",
    "ax2.set_ylabel(r\"$M$\", fontsize=20)\n",
    "ax2.grid()\n",
    "\n",
    "pyplot.tight_layout()\n",
    "pyplot.show()"
   ]
  },
  {
   "cell_type": "markdown",
   "metadata": {},
   "source": [
    "Note that the magnetization is equal to 100 for low temperatures. This indicates that all the **N** sites are pointing in the same direction, as it is expected."
   ]
  },
  {
   "cell_type": "markdown",
   "metadata": {},
   "source": [
    "Finally, let's compute the specific heat and the magnetic suseptibility by using the expressions for these quantities. Remember that the variance of some quantity is equal to the squared standard deviation related to this quantity. In this way, we compute first the standard deviations for the energy and the magnetization:"
   ]
  },
  {
   "cell_type": "code",
   "execution_count": 83,
   "metadata": {},
   "outputs": [],
   "source": [
    "energy_std = numpy.std(data_energies[:, tau:], axis=1)\n",
    "magnetization_std = numpy.std(numpy.abs(data_magnetizations[:, tau:]), axis=1)"
   ]
  },
  {
   "cell_type": "markdown",
   "metadata": {},
   "source": [
    "And having the standard deviations, we can compute the specific heat and the susceptibility:"
   ]
  },
  {
   "cell_type": "code",
   "execution_count": 85,
   "metadata": {},
   "outputs": [],
   "source": [
    "specific_heat = energy_std ** 2 / (kB * temps * temps)\n",
    "susceptibility = magnetization_std ** 2 / (kB * temps)"
   ]
  },
  {
   "cell_type": "markdown",
   "metadata": {},
   "source": [
    "Now, we can plot the last quantities as functions of the temperature. Let's to make a vertical line corresponding to the critical temperature for this system:"
   ]
  },
  {
   "cell_type": "code",
   "execution_count": 86,
   "metadata": {},
   "outputs": [
    {
     "data": {
      "image/png": "[encoded data removed]",
      "text/plain": [
       "<Figure size 576x288 with 2 Axes>"
      ]
     },
     "metadata": {},
     "output_type": "display_data"
    }
   ],
   "source": [
    "fig = pyplot.figure(figsize=(8, 4))\n",
    "ax = fig.add_subplot(121)\n",
    "ax2 = fig.add_subplot(122)\n",
    "\n",
    "ax.plot(temps, specific_heat)\n",
    "ax.set_xlabel(r\"$\\frac{k_B T}{J}$\", fontsize=20)\n",
    "ax.set_ylabel(r\"$C_v$\", fontsize=20)\n",
    "ax.grid()\n",
    "\n",
    "ax2.plot(temps, susceptibility)\n",
    "ax2.set_xlabel(r\"$\\frac{k_B T}{J}$\", fontsize=20)\n",
    "ax2.set_ylabel(r\"$\\chi$\", fontsize=20)\n",
    "ax2.grid()\n",
    "\n",
    "ax.axvline(2.26918531421, ls=\"--\", color=\"crimson\")\n",
    "ax2.axvline(2.26918531421, ls=\"--\", color=\"crimson\")\n",
    "\n",
    "pyplot.tight_layout()\n",
    "pyplot.show()"
   ]
  },
  {
   "cell_type": "markdown",
   "metadata": {},
   "source": [
    "As expected, both the specific heat and the magnetic susceptibility exhibit their maximum values at a temperature near to the critical temperature (dashed red line). However, it is worthy to say that the critical temperature is defined for a system with infinite length. For this reason, the peaks of the last figures are not exactly equal to the theoretical value for $T_c$."
   ]
  },
  {
   "cell_type": "markdown",
   "metadata": {},
   "source": [
    "Perfect !!! At this point, we could play with this program and make simulations for other sizes or, even, compute other interesting quantities like Binder cumulants or correlation times. You should try it !\n",
    "\n",
    "If you have any question or suggestion, don't hesitate to contact me at [jdalzatec@gmail.com](mailto:jdalzatec@gmail.com).\n",
    "\n",
    "<br />\n",
    "<div style=\"background-color: gold\">You could download a jupyter notebook with this tutorial from <a href=\"./notebook.ipynb\">here</a>.</div>"
   ]
  }
 ],
 "metadata": {
  "kernelspec": {
   "display_name": "Python 3",
   "language": "python",
   "name": "python3"
  },
  "language_info": {
   "codemirror_mode": {
    "name": "ipython",
    "version": 3
   },
   "file_extension": ".py",
   "mimetype": "text/x-python",
   "name": "python",
   "nbconvert_exporter": "python",
   "pygments_lexer": "ipython3",
   "version": "3.6.7"
  }
 },
 "nbformat": 4,
 "nbformat_minor": 2
}
